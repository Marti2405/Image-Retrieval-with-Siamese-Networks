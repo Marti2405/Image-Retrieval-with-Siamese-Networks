{
 "cells": [
  {
   "cell_type": "code",
   "execution_count": 1,
   "metadata": {},
   "outputs": [],
   "source": [
    "import numpy as np"
   ]
  },
  {
   "cell_type": "markdown",
   "metadata": {},
   "source": [
    "# Build model"
   ]
  },
  {
   "cell_type": "code",
   "execution_count": 3,
   "metadata": {},
   "outputs": [
    {
     "name": "stdout",
     "output_type": "stream",
     "text": [
      "(400000, 2, 2560) (50000, 2, 2560) (50000, 2, 2560)\n"
     ]
    }
   ],
   "source": [
    "X_train = np.load(\"./Data/Dataset/x_train.npy\")\n",
    "X_test = np.load(\"./Data/Dataset/X_test.npy\")\n",
    "X_validate = np.load(\"./Data/Dataset/X_validate.npy\")\n",
    "\n",
    "y_train = np.load(\"./Data/Dataset/y_train.npy\")\n",
    "y_test = np.load(\"./Data/Dataset/y_test.npy\")\n",
    "y_validate = np.load(\"./Data/Dataset/y_validate.npy\")\n",
    "\n",
    "print(X_train.shape, X_test.shape, X_validate.shape)"
   ]
  },
  {
   "cell_type": "code",
   "execution_count": null,
   "metadata": {},
   "outputs": [],
   "source": []
  }
 ],
 "metadata": {
  "kernelspec": {
   "display_name": "Python 3",
   "language": "python",
   "name": "python3"
  },
  "language_info": {
   "codemirror_mode": {
    "name": "ipython",
    "version": 3
   },
   "file_extension": ".py",
   "mimetype": "text/x-python",
   "name": "python",
   "nbconvert_exporter": "python",
   "pygments_lexer": "ipython3",
   "version": "3.10.12"
  }
 },
 "nbformat": 4,
 "nbformat_minor": 2
}
