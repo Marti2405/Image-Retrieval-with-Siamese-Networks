{
 "cells": [
  {
   "cell_type": "code",
   "execution_count": 1,
   "metadata": {},
   "outputs": [],
   "source": [
    "import json\n",
    "import numpy as np\n",
    "import h5py\n",
    "import matplotlib.pyplot as plt\n",
    "import tqdm\n",
    "from skimage.feature import ORB\n",
    "from skimage.color import rgb2gray\n",
    "import os\n",
    "import random"
   ]
  },
  {
   "cell_type": "markdown",
   "metadata": {},
   "source": [
    "# Load data"
   ]
  },
  {
   "cell_type": "code",
   "execution_count": 2,
   "metadata": {},
   "outputs": [],
   "source": [
    "# map\n",
    "with open(\"Data/database/database.json\",\"r\") as f:\n",
    "    m_idx = json.load(f)\n",
    "    m_imgs = np.array(m_idx[\"im_paths\"])\n",
    "    m_loc=np.array(m_idx[\"loc\"])\n",
    "\n",
    "# query\n",
    "with open(\"Data/query/query.json\",\"r\") as f:\n",
    "    q_idx=json.load(f)\n",
    "    q_imgs=np.array(q_idx[\"im_paths\"])\n",
    "    q_loc=np.array(q_idx[\"loc\"])\n",
    "\n",
    "# loading the relevance judgements\n",
    "with h5py.File(\"Data/london_gt.h5\",\"r\") as f:\n",
    "    fovs = f[\"fov\"][:]\n",
    "    sim = f[\"sim\"][:].astype(np.uint8)\n"
   ]
  },
  {
   "cell_type": "markdown",
   "metadata": {},
   "source": [
    "# Preprocessing"
   ]
  },
  {
   "cell_type": "markdown",
   "metadata": {},
   "source": [
    "## Create feature vectors for images"
   ]
  },
  {
   "cell_type": "code",
   "execution_count": 3,
   "metadata": {},
   "outputs": [],
   "source": [
    "def get_descriptors(x_imgs, n_keypoints=10):\n",
    "    \n",
    "    # Initialize the ORB descriptor\n",
    "    descriptor_extractor = ORB(n_keypoints=n_keypoints)\n",
    "    # Initialize the data structure that will contain all the descriptors\n",
    "    descriptors = None\n",
    "\n",
    "    for img_name in x_imgs:\n",
    "        #img = Image.open(os.path.join('data_image_retrieval/', img_name)).convert()\n",
    "        #img = np.asarray(img)\n",
    "        img = plt.imread(os.path.join('Data/', img_name))\n",
    "        img = rgb2gray(img)\n",
    "\n",
    "        # Extract ORB descriptors\n",
    "        descriptor_extractor.detect_and_extract(img)\n",
    "\n",
    "        descriptors_img = descriptor_extractor.descriptors  # descriptors (the feature vectors)\n",
    "\n",
    "        if descriptors is None:\n",
    "            descriptors = descriptors_img\n",
    "        else:\n",
    "            descriptors = np.vstack( (descriptors, descriptors_img))\n",
    "\n",
    "    return descriptors.reshape((len(x_imgs), -1))"
   ]
  },
  {
   "cell_type": "code",
   "execution_count": 4,
   "metadata": {},
   "outputs": [],
   "source": [
    "def save_dict(file_path, imgs, descriptors):\n",
    "    np.save(file_path+\"img_path.npy\", imgs)\n",
    "    np.save(file_path+\"descriptors.npy\", descriptors)"
   ]
  },
  {
   "cell_type": "code",
   "execution_count": 5,
   "metadata": {},
   "outputs": [],
   "source": [
    "def load_dict(file_path):\n",
    "    imgs = np.load(file_path+\"img_path.npy\")\n",
    "    descriptors = np.load(file_path+\"descriptors.npy\")\n",
    "\n",
    "    return dict(zip(imgs, descriptors))"
   ]
  },
  {
   "cell_type": "code",
   "execution_count": 6,
   "metadata": {},
   "outputs": [],
   "source": [
    "def get_feture_dict(m_imgs, q_imgs, n_keypoints=10):\n",
    "    m_descriptors = get_descriptors(m_imgs, n_keypoints=n_keypoints)\n",
    "    q_descriptors = get_descriptors(q_imgs, n_keypoints=n_keypoints)\n",
    "    \n",
    "    descriptors = np.concatenate((m_descriptors, q_descriptors))\n",
    "    \n",
    "    imgs = np.concatenate((m_imgs, q_imgs))\n",
    "\n",
    "    save_dict('./Data/Dataset/', imgs, descriptors)\n",
    "\n",
    "    return dict(zip(imgs, descriptors))"
   ]
  },
  {
   "cell_type": "code",
   "execution_count": 7,
   "metadata": {},
   "outputs": [],
   "source": [
    "n_keypoints = 10\n",
    "\n",
    "# Create dictionary for mapping image path to the vector of keypoints\n",
    "img2vector = get_feture_dict(m_imgs, q_imgs, n_keypoints=n_keypoints)"
   ]
  },
  {
   "cell_type": "code",
   "execution_count": 11,
   "metadata": {},
   "outputs": [],
   "source": [
    "img2vector = load_dict('./Data/Dataset/')"
   ]
  },
  {
   "cell_type": "code",
   "execution_count": 15,
   "metadata": {},
   "outputs": [
    {
     "data": {
      "text/plain": [
       "array([ True,  True,  True, ..., False, False,  True])"
      ]
     },
     "execution_count": 15,
     "metadata": {},
     "output_type": "execute_result"
    }
   ],
   "source": [
    "file_path = q_imgs[random.randint(0,len(q_imgs)-1)]\n",
    "\n",
    "img2vector[file_path]"
   ]
  },
  {
   "cell_type": "markdown",
   "metadata": {},
   "source": [
    "## Create data pairs"
   ]
  },
  {
   "cell_type": "code",
   "execution_count": 30,
   "metadata": {},
   "outputs": [
    {
     "name": "stdout",
     "output_type": "stream",
     "text": [
      "(36106, 2)\n",
      "(36106,)\n"
     ]
    }
   ],
   "source": [
    "X_raw = []\n",
    "Y = []\n",
    "\n",
    "for i in range(sim.shape[0]):\n",
    "    for j in range(sim.shape[1]):\n",
    "        X_raw.append((q_imgs[i],m_imgs[j]))\n",
    "        Y.append(sim[i][j])\n",
    "\n",
    "\n",
    "X_raw = np.array(X_raw)\n",
    "Y = np.array(Y)\n",
    "\n",
    "# Find the indices of non-zero values in Y\n",
    "non_zero_indices = np.nonzero(Y)[0]\n",
    "\n",
    "# Shuffle the indices to avoid any ordering bias\n",
    "np.random.shuffle(non_zero_indices)\n",
    "\n",
    "# Count the number of non-zero values\n",
    "n_non_zero = np.count_nonzero(Y)\n",
    "\n",
    "# Filter the zero indices from Y\n",
    "zero_indices_0 = np.where(Y == 0)[0][:n_non_zero]\n",
    "zero_indices_1 = np.where(Y == 0)[0][n_non_zero:2*n_non_zero]\n",
    "zero_indices_2 = np.where(Y == 0)[0][2*n_non_zero:3*n_non_zero]\n",
    "zero_indices_3 = np.where(Y == 0)[0][3*n_non_zero:4*n_non_zero]\n",
    "zero_indices_4 = np.where(Y == 0)[0][4*n_non_zero:5*n_non_zero]\n",
    "zero_indices_5 = np.where(Y == 0)[0][5*n_non_zero:6*n_non_zero]\n",
    "zero_indices_6 = np.where(Y == 0)[0][6*n_non_zero:7*n_non_zero]\n",
    "zero_indices_7 = np.where(Y == 0)[0][7*n_non_zero:8*n_non_zero]\n",
    "zero_indices_8 = np.where(Y == 0)[0][8*n_non_zero:9*n_non_zero]\n",
    "zero_indices_9 = np.where(Y == 0)[0][9*n_non_zero:10*n_non_zero]\n",
    "\n",
    "# Concatenate the non-zero and zero indices\n",
    "balanced_indices = np.concatenate([non_zero_indices, zero_indices_9])\n",
    "\n",
    "# Use the balanced indices to create new X and Y arrays\n",
    "X_raw = X_raw[balanced_indices]\n",
    "Y = Y[balanced_indices]\n",
    "\n",
    "print(X_raw.shape)\n",
    "print(Y.shape)"
   ]
  },
  {
   "cell_type": "markdown",
   "metadata": {},
   "source": [
    "## Split trainging, test and validation datasets"
   ]
  },
  {
   "cell_type": "code",
   "execution_count": 31,
   "metadata": {},
   "outputs": [],
   "source": [
    "X = np.asarray([(img2vector[q_img], img2vector[m_img]) for q_img, m_img in X_raw])"
   ]
  },
  {
   "cell_type": "code",
   "execution_count": 32,
   "metadata": {},
   "outputs": [
    {
     "name": "stdout",
     "output_type": "stream",
     "text": [
      "(28884, 2, 2560) (3611, 2, 2560) (3611, 2, 2560)\n"
     ]
    }
   ],
   "source": [
    "from sklearn.model_selection import train_test_split\n",
    "\n",
    "X_train, X_rest, y_train, y_rest = train_test_split(X, Y, test_size=0.20, random_state=0)\n",
    "X_test, X_validate, y_test, y_validate = train_test_split(X_rest, y_rest, test_size=0.50, random_state=0)\n",
    "\n",
    "print(X_train.shape, X_test.shape, X_validate.shape)"
   ]
  },
  {
   "cell_type": "code",
   "execution_count": 33,
   "metadata": {},
   "outputs": [],
   "source": [
    "np.save(\"./Data/Dataset/X_train.npy\", X_train)\n",
    "np.save(\"./Data/Dataset/X_test.npy\", X_test)\n",
    "np.save(\"./Data/Dataset/X_validate.npy\", X_validate)\n",
    "\n",
    "np.save(\"./Data/Dataset/Y_train.npy\", y_train)\n",
    "np.save(\"./Data/Dataset/Y_test.npy\", y_test)\n",
    "np.save(\"./Data/Dataset/Y_validate.npy\", y_validate)"
   ]
  }
 ],
 "metadata": {
  "kernelspec": {
   "display_name": "Python 3",
   "language": "python",
   "name": "python3"
  },
  "language_info": {
   "codemirror_mode": {
    "name": "ipython",
    "version": 3
   },
   "file_extension": ".py",
   "mimetype": "text/x-python",
   "name": "python",
   "nbconvert_exporter": "python",
   "pygments_lexer": "ipython3",
   "version": "3.9.13"
  }
 },
 "nbformat": 4,
 "nbformat_minor": 2
}
